{
 "cells": [
  {
   "cell_type": "markdown",
   "id": "ea976cb6-4124-4630-a054-f21e1992a3a1",
   "metadata": {},
   "source": [
    "# Задание 1"
   ]
  },
  {
   "cell_type": "markdown",
   "id": "b3a9de21-3e09-4f28-9f0e-fd7f5d23f9cf",
   "metadata": {},
   "source": [
    "\n",
    "Два человека одновременно стреляют по мишени. Вероятность попадания по мишени у первого стрелка равна 0,5, у второго — 0,8. Какова вероятность того, что в мишени будет только одна пробоина?\n",
    "Примечание: в этой и последующих задачах десятичным разделителем должна быть точка. \n"
   ]
  },
  {
   "cell_type": "code",
   "execution_count": 1,
   "id": "d2c4f98c-fecf-4d19-b542-752c4a24c333",
   "metadata": {
    "tags": []
   },
   "outputs": [],
   "source": [
    "p1 = 0.5\n",
    "p2 = 0.8\n",
    "q1 = 1 - p1\n",
    "q2 = 1 - p2"
   ]
  },
  {
   "cell_type": "code",
   "execution_count": 2,
   "id": "b058efee-3aa2-4fed-a157-9eb7f5548007",
   "metadata": {
    "tags": []
   },
   "outputs": [
    {
     "data": {
      "text/plain": [
       "0.5"
      ]
     },
     "execution_count": 2,
     "metadata": {},
     "output_type": "execute_result"
    }
   ],
   "source": [
    "# Так как эти два события не связаны, то нам подходит сложение вероятностей из двух подходящих нам событий, первое событие это попадание первого стрелка, второе попадание второго\n",
    "answer_1 = (p1 * q2) + (p2 * q1)\n",
    "answer_1"
   ]
  },
  {
   "cell_type": "markdown",
   "id": "fff137b7-6f51-4cab-a7ca-641138c3d319",
   "metadata": {},
   "source": [
    "# Задание 2"
   ]
  },
  {
   "cell_type": "markdown",
   "id": "39f83091-1515-4879-b593-615bfe5725e2",
   "metadata": {},
   "source": [
    "\n",
    "Трое аналитиков на экзамене независимо друг от друга решают одну и ту же задачу. Вероятности ее решения этими аналитиками равны 0,8, 0,7 и 0,6 соответственно. Найдите вероятность того, что хотя бы один аналитик решит задачу.\n"
   ]
  },
  {
   "cell_type": "code",
   "execution_count": 3,
   "id": "ae72804f-31c2-4c38-985e-9ac6cdf658f7",
   "metadata": {
    "tags": []
   },
   "outputs": [],
   "source": [
    "p1 = 0.8\n",
    "q1 = 1 - p1\n",
    "p2 = 0.7\n",
    "q2 = 1 - p2\n",
    "p3 = 0.6\n",
    "q3 = 1 - p3"
   ]
  },
  {
   "cell_type": "code",
   "execution_count": 10,
   "id": "1e72df13-c527-465b-bcd8-c6f19503427f",
   "metadata": {
    "tags": []
   },
   "outputs": [
    {
     "data": {
      "text/plain": [
       "0.12171428571428572"
      ]
     },
     "execution_count": 10,
     "metadata": {},
     "output_type": "execute_result"
    }
   ],
   "source": [
    "answer_2 = (p1 * q2 * q3) + (p2 * q1 * q3) + (p3 * q1 * q2)\n",
    "answer_2"
   ]
  },
  {
   "cell_type": "markdown",
   "id": "db06c2fa-e597-460f-a67c-9bc90cdd51f4",
   "metadata": {},
   "source": [
    "# Задание 3"
   ]
  },
  {
   "cell_type": "markdown",
   "id": "94281bb9-4eec-4538-aa74-6ebc2a33bd61",
   "metadata": {},
   "source": [
    "В первой урне находятся 10 белых и 4 черных шаров, а во второй 5 белых и 9 черных шаров. Из каждой урны вынули по шару. Какова вероятность того, что оба шара окажутся черными? В ответ запишите значение, округленное до тысячных."
   ]
  },
  {
   "cell_type": "code",
   "execution_count": 5,
   "id": "22c8871f-288a-4103-93ae-d86a07a6b1e7",
   "metadata": {
    "tags": []
   },
   "outputs": [],
   "source": [
    "# 1 - 10б, 4ч 2- 5б, 9ч"
   ]
  },
  {
   "cell_type": "code",
   "execution_count": 6,
   "id": "408db282-de16-4d96-aedc-0f87fd42919d",
   "metadata": {
    "tags": []
   },
   "outputs": [],
   "source": [
    "all_1 = 10 + 4\n",
    "all_2 = 5 + 9"
   ]
  },
  {
   "cell_type": "code",
   "execution_count": 8,
   "id": "0bd15657-c3c2-4cfe-bab3-aa25ce725001",
   "metadata": {
    "tags": []
   },
   "outputs": [
    {
     "data": {
      "text/plain": [
       "0.1836734693877551"
      ]
     },
     "execution_count": 8,
     "metadata": {},
     "output_type": "execute_result"
    }
   ],
   "source": [
    "p1 = 4 / all_1 \n",
    "p2 = 9 / all_2\n",
    "p_answer = p1 * p2\n",
    "p_answer"
   ]
  },
  {
   "cell_type": "markdown",
   "id": "b0f5bfb4-99bf-4783-832f-a1b38b80245c",
   "metadata": {},
   "source": [
    "# Задание 4"
   ]
  },
  {
   "cell_type": "markdown",
   "id": "811f350c-6597-45cd-b46a-f91f48054138",
   "metadata": {},
   "source": [
    "Вероятность хотя бы одного попадания в цель при четырех выстрелах равна 0,9984. Найдите вероятность попадания в цель при одном выстреле. "
   ]
  },
  {
   "cell_type": "code",
   "execution_count": 13,
   "id": "7d670b7a-c60a-49ae-a3a6-6124fe8a94a7",
   "metadata": {
    "tags": []
   },
   "outputs": [
    {
     "data": {
      "text/plain": [
       "0.8"
      ]
     },
     "execution_count": 13,
     "metadata": {},
     "output_type": "execute_result"
    }
   ],
   "source": [
    "p = 0.9984\n",
    "q = 1 - p\n",
    "# Так как было 4 выстрела то p = 1 - (1 - p)**4, 0.9984 - 1 = - (1 - p)**4 -> 0.0016 = (1 - p)**4 --> корень 0.0016  = 1 - p -- > 0.2 = 1 - p --> p = 0.8 \n",
    "answer = 0.8\n",
    "answer"
   ]
  },
  {
   "cell_type": "markdown",
   "id": "cf9341fd-4971-49a2-aa87-4bb0b8f0b33c",
   "metadata": {},
   "source": [
    "# Задание 5"
   ]
  },
  {
   "cell_type": "markdown",
   "id": "5c332570-d6d2-41a5-801f-e4aca1e534c6",
   "metadata": {},
   "source": [
    "Из колоды в 36 карт наудачу извлекается одна карта. События:\n",
    "A = {вынутая карта – туз}\n",
    "В = {вынутая карта чёрной масти}\n",
    "F = {вынутая карта – фигура, т.е. является валетом, дамой, королём или тузом}.\n"
   ]
  },
  {
   "cell_type": "code",
   "execution_count": 14,
   "id": "7e5a9b55-1c15-4c55-9af7-166a50488bb0",
   "metadata": {
    "tags": []
   },
   "outputs": [],
   "source": [
    "p_a = 4 / 36\n",
    "p_b = 18 / 36\n",
    "p_f = 16 / 36"
   ]
  },
  {
   "cell_type": "code",
   "execution_count": 15,
   "id": "fd43146a-e455-4fe3-b6f6-3952bab3f24d",
   "metadata": {
    "tags": []
   },
   "outputs": [
    {
     "data": {
      "text/plain": [
       "0.1111111111111111"
      ]
     },
     "execution_count": 15,
     "metadata": {},
     "output_type": "execute_result"
    }
   ],
   "source": [
    "p_a"
   ]
  },
  {
   "cell_type": "code",
   "execution_count": 16,
   "id": "77710750-4cbf-4ffd-9e64-2cab97345caa",
   "metadata": {
    "tags": []
   },
   "outputs": [
    {
     "data": {
      "text/plain": [
       "0.5"
      ]
     },
     "execution_count": 16,
     "metadata": {},
     "output_type": "execute_result"
    }
   ],
   "source": [
    "p_b"
   ]
  },
  {
   "cell_type": "code",
   "execution_count": 17,
   "id": "c7bba3c1-a3a5-4cfe-a685-2e71b0becd4b",
   "metadata": {
    "tags": []
   },
   "outputs": [
    {
     "data": {
      "text/plain": [
       "0.4444444444444444"
      ]
     },
     "execution_count": 17,
     "metadata": {},
     "output_type": "execute_result"
    }
   ],
   "source": [
    "p_f"
   ]
  },
  {
   "cell_type": "markdown",
   "id": "4fa473d2-dfe9-4112-a26a-f31300e7127c",
   "metadata": {},
   "source": [
    "# Задание 6"
   ]
  },
  {
   "cell_type": "markdown",
   "id": "8083b0fe-1d11-4aad-8577-9c14a3af515d",
   "metadata": {},
   "source": [
    "В конверте находится 10 лотерейных билетов, среди которых 3 выигрышных. Из конверта последовательно извлекаются билеты. Найти вероятность того, что три первых лотерейных билета будут выигрышными. Ответ округлите до десятитысячных. В качестве десятичного разделителя используйте точку."
   ]
  },
  {
   "cell_type": "code",
   "execution_count": 18,
   "id": "d1835521-93e8-48a9-b71d-b307917e8988",
   "metadata": {
    "tags": []
   },
   "outputs": [
    {
     "data": {
      "text/plain": [
       "0.008333333333333333"
      ]
     },
     "execution_count": 18,
     "metadata": {},
     "output_type": "execute_result"
    }
   ],
   "source": [
    "p_1 = 3 / 10\n",
    "p_2 = 2 / 9\n",
    "p_3 = 1 / 8\n",
    "p_answer = p_1 * p_2 * p_3\n",
    "p_answer"
   ]
  },
  {
   "cell_type": "markdown",
   "id": "091c270e-6a17-4853-a365-48db69f3d30a",
   "metadata": {},
   "source": [
    "# Задание 7"
   ]
  },
  {
   "cell_type": "markdown",
   "id": "d6d4d889-76e0-4602-8a81-41a507c46a09",
   "metadata": {},
   "source": [
    "В трех углах равностороннего треугольника находится по роботу. Каждый из роботов начинает двигаться в случайно выбранный угол по стороне треугольника. Какова вероятность того, что ни один из роботов не столкнется с другим роботом?\n",
    "Ответ округлите до сотых. В качестве десятичного разделителя используйте точку.\n"
   ]
  },
  {
   "cell_type": "code",
   "execution_count": 22,
   "id": "fe9832fc-79d2-401d-9671-bf753da80806",
   "metadata": {
    "tags": []
   },
   "outputs": [
    {
     "data": {
      "text/plain": [
       "0.25"
      ]
     },
     "execution_count": 22,
     "metadata": {},
     "output_type": "execute_result"
    }
   ],
   "source": [
    "p_1 = 1 / 2\n",
    "p_2 = 1 / 2\n",
    "p_3 = 1 / 2\n",
    "p_answer_1 = p_1 * p_2 * p_3 # По часовой стрелке\n",
    "p_answer_2 = p_1 * p_2 * p_3 # Против часовой\n",
    "p_answer = p_answer_1 + p_answer_2\n",
    "p_answer"
   ]
  },
  {
   "cell_type": "markdown",
   "id": "44cecad6-3785-469b-9721-5c5b72c0ea53",
   "metadata": {},
   "source": [
    "# Задание 8"
   ]
  },
  {
   "cell_type": "markdown",
   "id": "34a3fb1b-076f-4173-b390-f8f282f34fca",
   "metadata": {},
   "source": [
    "Брошены две игральные кости. Есть следующие события:\n",
    "А = {выпадение шестерки на первой кости}\n",
    "В = {сумма выпавших очков равна 7}\n",
    "С = {выпадение тройки на второй кости}\n"
   ]
  },
  {
   "cell_type": "code",
   "execution_count": 25,
   "id": "ec5c34dc-09ff-40c0-9165-7293c4913d07",
   "metadata": {
    "tags": []
   },
   "outputs": [],
   "source": [
    "p_a = 6 / 36\n",
    "p_b = 7 / 36\n",
    "p_c = 6 / 36"
   ]
  }
 ],
 "metadata": {
  "kernelspec": {
   "display_name": "Python 3 (ipykernel)",
   "language": "python",
   "name": "python3"
  },
  "language_info": {
   "codemirror_mode": {
    "name": "ipython",
    "version": 3
   },
   "file_extension": ".py",
   "mimetype": "text/x-python",
   "name": "python",
   "nbconvert_exporter": "python",
   "pygments_lexer": "ipython3",
   "version": "3.11.5"
  }
 },
 "nbformat": 4,
 "nbformat_minor": 5
}
